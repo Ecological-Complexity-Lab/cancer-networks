{
 "cells": [
  {
   "cell_type": "code",
   "execution_count": 4,
   "id": "d0fe56ff",
   "metadata": {},
   "outputs": [
    {
     "name": "stdout",
     "output_type": "stream",
     "text": [
      "AIC 158632.661255659\n",
      "AIC 156914.79812004452\n",
      "AIC 156470.6518326096\n",
      "AIC 157755.72991236352\n",
      "AIC 159202.63818544365\n",
      "AIC 160302.6141219835\n",
      "AIC 164115.9277471084\n",
      "AIC 167300.87540053332\n",
      "AIC 169358.3731221985\n",
      "AIC 173158.80749020298\n",
      "AIC 178122.64979240985\n",
      "AIC 180445.77746791366\n",
      "AIC 185024.65538341377\n",
      "BIC 181706.2549796338\n",
      "BIC 191706.3949394411\n",
      "BIC 203101.05590305084\n",
      "BIC 216345.74538947231\n",
      "BIC 229873.0692248429\n",
      "BIC 243174.26487929613\n",
      "BIC 259309.60237795732\n",
      "BIC 274937.37806054146\n",
      "BIC 289558.5079669887\n",
      "BIC 306043.3786753982\n",
      "BIC 323812.46147363295\n",
      "BIC 339061.63380078756\n",
      "BIC 356687.36052356136\n"
     ]
    }
   ],
   "source": [
    "import numpy as np\n",
    "MLE = [  -74732.3306278295,-71545.39906002226, -68971.3259163048,-67237.86495618176,-65561.31909272182,-63687.30706099175,-63145.9638735542,-62266.437700266666,-60799.18656109925 ,-60179.40374510149 ,-60117.32489620492,-58710.88873395683 ,-58408.32769170688,-57978.673102399975]\n",
    "\n",
    "l = 12\n",
    "n = 1134\n",
    "\n",
    "for k in range(2,15):\n",
    "    AIC = 2*(2*n*k+l*k**2) - 2*MLE[k-2]\n",
    "    print(\"AIC\", AIC)\n",
    "    \n",
    "for k in range(2,15):\n",
    "    BIC = np.log(n)*(2*n*k+l*k**2) - 2*MLE[k-2]\n",
    "    print(\"BIC\", BIC)"
   ]
  }
 ],
 "metadata": {
  "kernelspec": {
   "display_name": "Python 3 (ipykernel)",
   "language": "python",
   "name": "python3"
  },
  "language_info": {
   "codemirror_mode": {
    "name": "ipython",
    "version": 3
   },
   "file_extension": ".py",
   "mimetype": "text/x-python",
   "name": "python",
   "nbconvert_exporter": "python",
   "pygments_lexer": "ipython3",
   "version": "3.9.7"
  }
 },
 "nbformat": 4,
 "nbformat_minor": 5
}
