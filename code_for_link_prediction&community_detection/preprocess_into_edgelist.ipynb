{
 "cells": [
  {
   "cell_type": "code",
   "execution_count": 88,
   "metadata": {},
   "outputs": [],
   "source": [
    "import pandas as pd\n",
    "import numpy as np\n",
    "import networkx as nx\n",
    "genes = ['HSPA9', 'HSPD1', 'HSPE1', 'SPG7', 'CLPP', 'DNAJA3', 'LONP1',\n",
    "       'TRAP1', 'YME1L1', 'CLPX', 'AFG3L2', 'HTRA2', 'DNAJC19', 'GRPEL2',\n",
    "       'HSCB']\n",
    "\n",
    "\n",
    "abbrev = [\"breast\", \"colon\", \"head\", \"kidneyc\", \"kidneyp\", \"liver\", \"lunga\", \"lungs\", \"prostate\", \"stomach\", \"thyroid\",\"uterine\"]\n",
    "\n",
    "tbd = pd.read_csv(\"../data/Uterine_Corpus_Endometrial_Carcinoma.csv\")\n",
    "\n",
    "protein = list(tbd.columns[1:].values)\n",
    "\n",
    "edgelist = []\n",
    "for i in range(len(genes)):\n",
    "    for j,item in enumerate(tbd.values[i,1:]):\n",
    "        if int(item)==1:\n",
    "            edgelist.append([str(genes[i]),str(protein[j])])\n"
   ]
  },
  {
   "cell_type": "code",
   "execution_count": 89,
   "metadata": {},
   "outputs": [],
   "source": [
    "np.save(\"uterine.npy\",edgelist)"
   ]
  },
  {
   "cell_type": "code",
   "execution_count": 64,
   "metadata": {},
   "outputs": [],
   "source": [
    "# HOW TO LOAD THE NPY FILES AS EDGELIST IN PYTHON2\n",
    "\n",
    "#test = np.load(\"breast.npy\").tolist()\n",
    "#G = nx.Graph()\n",
    "#G.add_edges_from(test)"
   ]
  },
  {
   "cell_type": "code",
   "execution_count": 97,
   "metadata": {},
   "outputs": [
    {
     "name": "stdout",
     "output_type": "stream",
     "text": [
      "('number_nodes', 1158)\n"
     ]
    }
   ],
   "source": [
    "print(\"number_nodes\", len(node_names))"
   ]
  },
  {
   "cell_type": "code",
   "execution_count": 91,
   "metadata": {},
   "outputs": [],
   "source": [
    "import json\n",
    "node_names = genes + protein\n",
    "node_name_dict = dict(zip(node_names, range(len(node_names))))\n",
    "    \n",
    "with open('node_idx.json', 'w') as fp:\n",
    "    json.dump(node_name_dict, fp)"
   ]
  },
  {
   "cell_type": "code",
   "execution_count": 96,
   "metadata": {},
   "outputs": [],
   "source": [
    "for g in abbrev:\n",
    "    edgelist = np.load(\"../data/\"  + g + \".npy\").tolist()\n",
    "\n",
    "    int_edgelist = []\n",
    "    for edge in edgelist:\n",
    "        int_edgelist.append([node_name_dict[edge[0]],node_name_dict[edge[1]]])\n",
    "    np.savetxt( g + \".txt\", int_edgelist)"
   ]
  }
 ],
 "metadata": {
  "kernelspec": {
   "display_name": "Python 2",
   "language": "python",
   "name": "python2"
  },
  "language_info": {
   "codemirror_mode": {
    "name": "ipython",
    "version": 2
   },
   "file_extension": ".py",
   "mimetype": "text/x-python",
   "name": "python",
   "nbconvert_exporter": "python",
   "pygments_lexer": "ipython2",
   "version": "2.7.15"
  }
 },
 "nbformat": 4,
 "nbformat_minor": 2
}
