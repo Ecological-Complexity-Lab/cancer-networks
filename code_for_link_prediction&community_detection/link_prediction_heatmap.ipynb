{
 "cells": [
  {
   "cell_type": "code",
   "execution_count": 2,
   "id": "84c2d5bb",
   "metadata": {},
   "outputs": [],
   "source": [
    "import pickle\n",
    "import numpy as np\n",
    "import pandas as pd\n",
    "from utils import *\n",
    "import itertools\n",
    "import seaborn as sns\n",
    "import matplotlib.pyplot as plt\n",
    "GENES = [\"breast\", \"colon\", \"head\", \"kidneyc\", \"kidneyp\", \"liver\", \"lunga\", \"lungs\", \"prostate\", \"stomach\", \"thyroid\",\"uterine\"]\n",
    "\n",
    "\n",
    "def load_cancer_data():\n",
    "    layers = [\"breast\", \"colon\", \"head\", \"kidneyc\", \"kidneyp\", \"liver\", \"lunga\", \"lungs\", \n",
    "              \"prostate\", \"stomach\", \"thyroid\",\"uterine\"]\n",
    "    data_path = r\"../data/\"\n",
    "    data ={}\n",
    "    \n",
    "    for lay in layers:\n",
    "        data[lay] = np.loadtxt(data_path + lay +\".txt\")\n",
    "    \n",
    "    pair = list(itertools.product(layers,layers))\n",
    "    pair = [list(x) for x in pair]\n",
    "    for item in pair:\n",
    "        if item[0]==item[1]:\n",
    "            pair.remove(item)\n",
    "            \n",
    "    allcomb = []\n",
    "    for i in range(len(layers)):\n",
    "        a=[layers[i]]+[x for x in layers if x not in [layers[i]]]\n",
    "        allcomb.append(a)\n",
    "            \n",
    "    return data, layers, pair, allcomb\n",
    "              \n",
    "data1, layers1, pair1, allcomb1 = load_cancer_data()"
   ]
  },
  {
   "cell_type": "code",
   "execution_count": 14,
   "id": "5955d961",
   "metadata": {},
   "outputs": [],
   "source": [
    "path = r\"C:\\Users\\hexie\\OneDrive\\Desktop\\Projects\\CANCER_NETWORK\\cancer\\prediction_data_80_k2\\\\\"\n",
    "single = []\n",
    "double = []\n",
    "for i in range(5):\n",
    "    temp = np.loadtxt(path+\"single_2_80_\" + str(i) + \".txt\") \n",
    "    single.append(temp)\n",
    "    temp = np.loadtxt(path+\"double_2_80_\" + str(i) + \".txt\") \n",
    "    double.append(temp)"
   ]
  },
  {
   "cell_type": "code",
   "execution_count": 15,
   "id": "3ed14a19",
   "metadata": {},
   "outputs": [],
   "source": [
    "single1 = np.mean(single, axis = 0)\n",
    "double1 = np.mean(double, axis = 0)"
   ]
  },
  {
   "cell_type": "code",
   "execution_count": 16,
   "id": "53f8d3d6",
   "metadata": {},
   "outputs": [],
   "source": [
    "mat = np.array_split(double1, 12)\n",
    "mat_for_heat = []\n",
    "for i,m in enumerate(mat):\n",
    "    m = m.tolist()\n",
    "    m.insert(i,single1[i])\n",
    "    mat_for_heat.append(m)"
   ]
  },
  {
   "cell_type": "code",
   "execution_count": 17,
   "id": "69b0160c",
   "metadata": {},
   "outputs": [
    {
     "data": {
      "image/png": "[encoded data removed]",
      "text/plain": [
       "<Figure size 432x288 with 2 Axes>"
      ]
     },
     "metadata": {
      "needs_background": "light"
     },
     "output_type": "display_data"
    }
   ],
   "source": [
    "\n",
    "ax = sns.heatmap(mat_for_heat, robust=True, xticklabels=GENES, yticklabels=GENES, fmt=\"f\", cmap='RdBu_r', vmin=0.5, vmax=1)\n",
    "\n",
    "\n",
    "\n",
    "\n",
    "\n",
    "plt.title(\"Link Prediction for different Cancers\")\n",
    "plt.savefig('prediction_heatmap_80_k2.pdf', bbox_inches='tight')"
   ]
  },
  {
   "cell_type": "code",
   "execution_count": 18,
   "id": "421545bb",
   "metadata": {},
   "outputs": [],
   "source": [
    "value = single1.tolist()+double1.tolist()\n",
    "columns = [\"AUC\"]\n",
    "index = layers1+[str(x[0]) + \"_\" + str(x[1]) for x in pair1]\n",
    "df2 = pd.DataFrame(value, index, columns)\n",
    "df2.to_csv('link_prediction_80_k2.csv')  "
   ]
  }
 ],
 "metadata": {
  "kernelspec": {
   "display_name": "Python 3 (ipykernel)",
   "language": "python",
   "name": "python3"
  },
  "language_info": {
   "codemirror_mode": {
    "name": "ipython",
    "version": 3
   },
   "file_extension": ".py",
   "mimetype": "text/x-python",
   "name": "python",
   "nbconvert_exporter": "python",
   "pygments_lexer": "ipython3",
   "version": "3.9.7"
  }
 },
 "nbformat": 4,
 "nbformat_minor": 5
}
